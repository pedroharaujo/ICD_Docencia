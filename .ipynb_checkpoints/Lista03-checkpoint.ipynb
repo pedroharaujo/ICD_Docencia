{
 "cells": [
  {
   "cell_type": "markdown",
   "metadata": {},
   "source": [
    "Before you turn this problem in, make sure everything runs as expected. First, **restart the kernel** (in the menubar, select Kernel$\\rightarrow$Restart) and then **run all cells** (in the menubar, select Cell$\\rightarrow$Run All).\n",
    "\n",
    "Make sure you fill in any place that says `YOUR CODE HERE` or \"YOUR ANSWER HERE\", as well as your name and collaborators below:"
   ]
  },
  {
   "cell_type": "code",
   "execution_count": 1,
   "metadata": {},
   "outputs": [],
   "source": [
    "NAME = \"\"\n",
    "COLLABORATORS = \"\""
   ]
  },
  {
   "cell_type": "markdown",
   "metadata": {},
   "source": [
    "---"
   ]
  },
  {
   "cell_type": "markdown",
   "metadata": {
    "deletable": false,
    "editable": false,
    "nbgrader": {
     "cell_type": "markdown",
     "checksum": "ca8b28b9e468004e498fdfc3c00ebe06",
     "grade": false,
     "grade_id": "cellc-a00",
     "locked": true,
     "schema_version": 3,
     "solution": false
    }
   },
   "source": [
    "# Lista 03 - ICs + Bootstrap\n",
    "\n",
    "\n",
    "**Objetivos de Aprendizado**\n",
    "- Saber computar intervalos de confiança (clássico e via bootstrap)\n",
    "- Saber realizar testes a/b"
   ]
  },
  {
   "cell_type": "code",
   "execution_count": 2,
   "metadata": {
    "deletable": false,
    "editable": false,
    "nbgrader": {
     "cell_type": "code",
     "checksum": "801c5859a2ad8471c218bef10465741b",
     "grade": false,
     "grade_id": "cell-20fe39048e63375d",
     "locked": true,
     "schema_version": 3,
     "solution": false
    }
   },
   "outputs": [],
   "source": [
    "# -*- coding: utf 8\n",
    "\n",
    "\n",
    "from matplotlib import pyplot as plt\n",
    "\n",
    "\n",
    "from numpy.testing import assert_array_equal\n",
    "from numpy.testing import assert_array_almost_equal\n",
    "from numpy.testing import assert_equal\n",
    "from numpy.testing import assert_almost_equal\n",
    "\n",
    "\n",
    "import pandas as pd\n",
    "import numpy as np\n",
    "\n",
    "\n",
    "plt.style.use('seaborn-colorblind')\n",
    "plt.ion()"
   ]
  },
  {
   "cell_type": "markdown",
   "metadata": {
    "deletable": false,
    "editable": false,
    "nbgrader": {
     "cell_type": "markdown",
     "checksum": "1637fe7b8de6a2cb5198eb891bbb6b6f",
     "grade": false,
     "grade_id": "cell-9d1ad29e35bed9f4",
     "locked": true,
     "schema_version": 3,
     "solution": false
    }
   },
   "source": [
    "## Introdução\n",
    "\n",
    "O objetivo deste notebook é realizar uma introdução ao conceito de intervalos de confiança. Para tal, vamos explorar a base de dados do Enem 2015. A base é composta das seguintes colunas:\n",
    "\n",
    "- DEPENDENCIA_ADMINISTRATIVA: Indicando o tipo da escola `{'Estadual', 'Federal', 'Municipal', 'Privada'}`\n",
    "- NOTA_MEDIA_ESCOLA: Qual a nota média da escola no Enem\n",
    "- TAXA_DE_APROVACAO: Quantos foram aprovados [0, 100]\n",
    "- TAXA_DE_PARTICIPACAO: Quantos participaram da prova [0, 100]\n",
    "\n",
    "Abaixo temos o código que faz a leitura dos dados."
   ]
  },
  {
   "cell_type": "code",
   "execution_count": null,
   "metadata": {
    "deletable": false,
    "editable": false,
    "nbgrader": {
     "cell_type": "code",
     "checksum": "51286b135429a810669606de29a3808e",
     "grade": false,
     "grade_id": "cell-e5327430097d8ae9",
     "locked": true,
     "schema_version": 3,
     "solution": false
    }
   },
   "outputs": [],
   "source": [
    "df = pd.read_csv('enem2015.csv')\n",
    "df.head()"
   ]
  },
  {
   "cell_type": "markdown",
   "metadata": {},
   "source": [
    "Vamos dar uma olhada nos dados"
   ]
  },
  {
   "cell_type": "code",
   "execution_count": null,
   "metadata": {
    "deletable": false,
    "editable": false,
    "nbgrader": {
     "cell_type": "code",
     "checksum": "8de0d2ccc4b086eebd98b25365caf15c",
     "grade": false,
     "grade_id": "cell-64e79d5e266a1710",
     "locked": true,
     "schema_version": 3,
     "solution": false
    }
   },
   "outputs": [],
   "source": [
    "df.describe()"
   ]
  },
  {
   "cell_type": "markdown",
   "metadata": {
    "deletable": false,
    "editable": false,
    "nbgrader": {
     "cell_type": "markdown",
     "checksum": "42a3f8b4d727b0332992f42f1d1b70e2",
     "grade": false,
     "grade_id": "cell-77a6d45d72bdd64d",
     "locked": true,
     "schema_version": 3,
     "solution": false
    }
   },
   "source": [
    "## Exercício 01\n",
    "\n",
    "Para entender os dados, vamos iniciar com um pequenos histograma que será utilizado para entender a distribuição das médias das escolas.\n",
    "\n",
    "A) Plote um histograma dos dados da coluna \"NOTA_MEDIA_ESCOLA\".\n",
    "\n",
    "Sua resposta deve parecer com a figura abaixo\n",
    "\n",
    "![](./saida1.png)"
   ]
  },
  {
   "cell_type": "code",
   "execution_count": null,
   "metadata": {
    "deletable": false,
    "nbgrader": {
     "cell_type": "code",
     "checksum": "e7bfc6fc828a770515ef94d3e4f44d80",
     "grade": false,
     "grade_id": "cell-b9008710d05cd6db",
     "locked": false,
     "schema_version": 3,
     "solution": true,
     "task": false
    }
   },
   "outputs": [],
   "source": [
    "# YOUR CODE HERE\n",
    "raise NotImplementedError()"
   ]
  },
  {
   "cell_type": "markdown",
   "metadata": {
    "deletable": false,
    "editable": false,
    "nbgrader": {
     "cell_type": "markdown",
     "checksum": "ff5a1241feb6aad4e48b9eac1bdf6af8",
     "grade": false,
     "grade_id": "cell-d7ed0241ae5bbf52",
     "locked": true,
     "schema_version": 3,
     "solution": false,
     "task": false
    }
   },
   "source": [
    "B) Agora, plote uma CDF da coluna 'TAXA_DE_APROVACAO'. \n",
    "\n",
    "Sua resposta deve parecer com a figura abaixo\n",
    "\n",
    "![](./saida2.png)\n",
    "\n",
    "**Use o statsmodels e crie um objeto `ecdf = ECDF(...)`.**"
   ]
  },
  {
   "cell_type": "code",
   "execution_count": null,
   "metadata": {
    "deletable": false,
    "editable": false,
    "nbgrader": {
     "cell_type": "code",
     "checksum": "5f4b73341442f1b2ac0493717ed810d5",
     "grade": false,
     "grade_id": "cell-02373d4168c5e982",
     "locked": true,
     "schema_version": 3,
     "solution": false,
     "task": false
    }
   },
   "outputs": [],
   "source": [
    "from statsmodels.distributions.empirical_distribution import ECDF"
   ]
  },
  {
   "cell_type": "code",
   "execution_count": null,
   "metadata": {
    "deletable": false,
    "nbgrader": {
     "cell_type": "code",
     "checksum": "478d5f06cac8936018574045173a7fef",
     "grade": false,
     "grade_id": "cell-f7a6292747edefe5",
     "locked": false,
     "schema_version": 3,
     "solution": true,
     "task": false
    }
   },
   "outputs": [],
   "source": [
    "# YOUR CODE HERE\n",
    "raise NotImplementedError()"
   ]
  },
  {
   "cell_type": "code",
   "execution_count": null,
   "metadata": {
    "deletable": false,
    "editable": false,
    "nbgrader": {
     "cell_type": "code",
     "checksum": "78a557f75f9ee40e3415091f4fa093a3",
     "grade": true,
     "grade_id": "cell-71188956eaca1c0f",
     "locked": true,
     "points": 0,
     "schema_version": 3,
     "solution": false,
     "task": false
    }
   },
   "outputs": [],
   "source": []
  },
  {
   "cell_type": "markdown",
   "metadata": {
    "deletable": false,
    "editable": false,
    "nbgrader": {
     "cell_type": "markdown",
     "checksum": "9771dbc03d505be0a32ea9bda2e1d995",
     "grade": false,
     "grade_id": "cell-5de2af25853ccf6b",
     "locked": true,
     "schema_version": 3,
     "solution": false
    }
   },
   "source": [
    "C) Para o valor médio das notas as escolas, determine com 95% o intervalo de confiança. **Não utilize a técnica de bootstrap.**\n",
    "\n",
    "Lembrando do conceito visto em aula:\n",
    "\n",
    "$$\\begin{align}\n",
    "0.95 = P(-z \\le Z \\le z)=P \\left(-1.96 \\le \\frac {\\bar X-\\mu}{\\sigma/\\sqrt{n}} \\le 1.96 \\right) = P \\left( \\bar X - 1.96 \\frac \\sigma {\\sqrt{n}} \\le \\mu \\le \\bar X + 1.96 \\frac \\sigma {\\sqrt{n}}\\right).\n",
    "\\end{align}$$\n",
    "\n",
    "Neste exercício você deverá retornar uma lista com os valores inferior e superior do intervalo de confiança."
   ]
  },
  {
   "cell_type": "code",
   "execution_count": null,
   "metadata": {
    "deletable": false,
    "nbgrader": {
     "cell_type": "code",
     "checksum": "4713f99b5113dc2c1317dc2a708dd459",
     "grade": false,
     "grade_id": "cell-3f60daae27375779",
     "locked": false,
     "schema_version": 3,
     "solution": true
    }
   },
   "outputs": [],
   "source": [
    "def calcula_IC_notas(df):\n",
    "    # YOUR CODE HERE\n",
    "    raise NotImplementedError()\n",
    "    return [ inferior, superior ]"
   ]
  },
  {
   "cell_type": "markdown",
   "metadata": {
    "deletable": false,
    "editable": false,
    "nbgrader": {
     "cell_type": "markdown",
     "checksum": "7dae59c5234074045bc1731e51e074a6",
     "grade": false,
     "grade_id": "cell-46e43e56c918e334",
     "locked": true,
     "schema_version": 3,
     "solution": false
    }
   },
   "source": [
    "Para certificar que a sua função está retornando o intervalo correto, verifique se os valores abaixo \n",
    "são os mesmos para a sua função:\n",
    "    \n",
    "[573.4438030115773, 577.3396875055739]\n",
    "\n",
    "Se eles não estiverem neste intervalo, qual pode ser o motivo ?\n",
    "\n",
    "Verifique os parâmetros da função _np.std()_"
   ]
  },
  {
   "cell_type": "code",
   "execution_count": null,
   "metadata": {
    "deletable": false,
    "editable": false,
    "nbgrader": {
     "cell_type": "code",
     "checksum": "81fdb1d8d3ba17dd7328337b946da4ae",
     "grade": true,
     "grade_id": "cell-7ffe28105370b669",
     "locked": true,
     "points": 1,
     "schema_version": 3,
     "solution": false
    }
   },
   "outputs": [],
   "source": []
  },
  {
   "cell_type": "markdown",
   "metadata": {
    "deletable": false,
    "editable": false,
    "nbgrader": {
     "cell_type": "markdown",
     "checksum": "1cd8d2de0b6db86c56b7d93ed4736e60",
     "grade": false,
     "grade_id": "cell-feef6974844921de",
     "locked": true,
     "schema_version": 3,
     "solution": false
    }
   },
   "source": [
    "C) Na função abaixo, retorne o número da opção que melhor define o que indica o Intervalo de Confiança:\n",
    "\n",
    "    1: Caso o experimento seja repetido, com 95% de chance a média vai estar no intervalo\n",
    "    2: 5% da amostra está a mais que 1.96 de distância da média da população\n",
    "    3: 95% dos valores da população estão dentro do intervalo\n",
    "    4: A média da amostra está com 95% de probabilidade dentro do intervalo\n",
    "    5: Nenhuma das anteriores"
   ]
  },
  {
   "cell_type": "code",
   "execution_count": null,
   "metadata": {
    "deletable": false,
    "nbgrader": {
     "cell_type": "code",
     "checksum": "66c8354fd17b8e4890494712a09b4fde",
     "grade": false,
     "grade_id": "cell-95093148b01792f2",
     "locked": false,
     "schema_version": 3,
     "solution": true
    }
   },
   "outputs": [],
   "source": [
    "def resposta():\n",
    "    # Escolha uma das opções acima\n",
    "    # return 1 ou 2 ou 3 ou 4 ou 5\n",
    "    # Escreva sua resposta abaixo:\n",
    "    # YOUR CODE HERE\n",
    "    raise NotImplementedError()"
   ]
  },
  {
   "cell_type": "code",
   "execution_count": null,
   "metadata": {
    "deletable": false,
    "editable": false,
    "nbgrader": {
     "cell_type": "code",
     "checksum": "56d7f4a0e0a31a327a5637e143b86201",
     "grade": true,
     "grade_id": "cell-994c03fe99dda082",
     "locked": true,
     "points": 1,
     "schema_version": 3,
     "solution": false
    }
   },
   "outputs": [],
   "source": []
  },
  {
   "cell_type": "markdown",
   "metadata": {
    "deletable": false,
    "editable": false,
    "nbgrader": {
     "cell_type": "markdown",
     "checksum": "bff8cd16d515e16690e01443252da225",
     "grade": false,
     "grade_id": "cell1c-a00",
     "locked": true,
     "schema_version": 3,
     "solution": false
    }
   },
   "source": [
    "## Exercício 02\n",
    "\n",
    "Agora vamos calcular intervalos de confiança utilizando **bootstrap**. \n",
    "\n",
    "A) Utilizando o mesmo atributo do exercício anterior, execute um bootstrap com 5000 amostras.\n",
    "\n",
    "Lembre do conceito visto em aula:\n",
    "\n",
    "\"Para implementar o Bootstrap, vamos implementar uma função. A mesma faz uso da função _sample_ de pandas que gera uma amostra aleatória de _n_ elementos retirados do dataframe.\"\n",
    "\n",
    "1. Dado _n_ e _size_\n",
    "2. Gere _n_ amostras de tamanho _size_ com reposição\n",
    "3. Tira a média\n",
    "4. Retorne as novas amostras e veja a distribuição das mesmas\n",
    "\n",
    "Assim como o intervalo anterior, estamos gerando um bootstrap da média. Observe que temos uma resposta similar a de antes. Afinal, o Bootstrap aproxima o IC clássico. Em contrapartida, um fator importante do Bootstrap é que o mesmo permite o uso de outras medidas centrais (como a mediana)."
   ]
  },
  {
   "cell_type": "code",
   "execution_count": null,
   "metadata": {
    "deletable": false,
    "nbgrader": {
     "cell_type": "code",
     "checksum": "fca78bf684d53a719dcd02e55aadee82",
     "grade": true,
     "grade_id": "cell-d0a2391bf51eef6f",
     "locked": false,
     "points": 0,
     "schema_version": 3,
     "solution": true,
     "task": false
    }
   },
   "outputs": [],
   "source": [
    "nme = df['NOTA_MEDIA_ESCOLA']\n",
    "N = ... # altere aqui\n",
    "\n",
    "def bootstrap_mean(nme, n):\n",
    "    # YOUR CODE HERE\n",
    "    raise NotImplementedError()\n",
    "    return values"
   ]
  },
  {
   "cell_type": "markdown",
   "metadata": {
    "deletable": false,
    "editable": false,
    "nbgrader": {
     "cell_type": "markdown",
     "checksum": "3e84908d9e2b112fa19cfd5bf9f29f7a",
     "grade": false,
     "grade_id": "cell-38068ba97aad6037",
     "locked": true,
     "schema_version": 3,
     "solution": false
    }
   },
   "source": [
    "B) Plote a distribuição das médias amostrais.\n",
    "\n",
    "Sua saída deve ser parecida com a figura abaixo.\n",
    "\n",
    "![](./saida3.png)"
   ]
  },
  {
   "cell_type": "code",
   "execution_count": null,
   "metadata": {
    "deletable": false,
    "nbgrader": {
     "cell_type": "code",
     "checksum": "5b98f446e294414e22c6ac4b5f99fe3a",
     "grade": false,
     "grade_id": "cell-0c01d0a6bf44b560",
     "locked": false,
     "schema_version": 3,
     "solution": true,
     "task": false
    }
   },
   "outputs": [],
   "source": [
    "bm_values = bootstrap_mean(nme, N)\n",
    "\n",
    "# YOUR CODE HERE\n",
    "raise NotImplementedError()"
   ]
  },
  {
   "cell_type": "markdown",
   "metadata": {
    "deletable": false,
    "editable": false,
    "nbgrader": {
     "cell_type": "markdown",
     "checksum": "9f55f646dac88064e7163e9ee5e669cd",
     "grade": false,
     "grade_id": "cell-b8f9d89555c76f12",
     "locked": true,
     "schema_version": 3,
     "solution": false
    }
   },
   "source": [
    "C) Faça uma função que indique onde ficam 95% dos dados sintéticos"
   ]
  },
  {
   "cell_type": "code",
   "execution_count": null,
   "metadata": {
    "deletable": false,
    "nbgrader": {
     "cell_type": "code",
     "checksum": "e25c6f592300997bcb48ffa1167b307c",
     "grade": false,
     "grade_id": "cell-4a9f27e4dcd22c5e",
     "locked": false,
     "schema_version": 3,
     "solution": true
    }
   },
   "outputs": [],
   "source": [
    "def percentile(bm_values, init, final):\n",
    "    # YOUR CODE HERE\n",
    "    raise NotImplementedError()\n",
    "    return [inferior, superior]"
   ]
  },
  {
   "cell_type": "markdown",
   "metadata": {
    "deletable": false,
    "editable": false,
    "nbgrader": {
     "cell_type": "markdown",
     "checksum": "ad317cd2b22bf907bb06c12fbcbc949f",
     "grade": false,
     "grade_id": "cell-c3a44bb4b11fdb99",
     "locked": true,
     "schema_version": 3,
     "solution": false
    }
   },
   "source": [
    "Na célula abaixo chame a função que você definiu acima. Altere os parâmetros _init_ e _final_ \n",
    "para que a resposta indique os 95%. "
   ]
  },
  {
   "cell_type": "code",
   "execution_count": null,
   "metadata": {
    "deletable": false,
    "nbgrader": {
     "cell_type": "code",
     "checksum": "fbcc0e82e5c06a69530a7067dae010d2",
     "grade": true,
     "grade_id": "cell-5fdd4f21438c043e",
     "locked": false,
     "points": 0,
     "schema_version": 3,
     "solution": true,
     "task": false
    }
   },
   "outputs": [],
   "source": [
    "# YOUR CODE HERE\n",
    "raise NotImplementedError()"
   ]
  },
  {
   "cell_type": "code",
   "execution_count": null,
   "metadata": {
    "deletable": false,
    "editable": false,
    "nbgrader": {
     "cell_type": "code",
     "checksum": "3ce1e35126e03e16b33de1d2f925722d",
     "grade": true,
     "grade_id": "cell-46f9cce3f3cf71b1",
     "locked": true,
     "points": 1,
     "schema_version": 3,
     "solution": false
    }
   },
   "outputs": [],
   "source": []
  },
  {
   "cell_type": "markdown",
   "metadata": {
    "deletable": false,
    "editable": false,
    "nbgrader": {
     "cell_type": "markdown",
     "checksum": "bc0781eaa4d0aca71669d9759732dad8",
     "grade": false,
     "grade_id": "cell-22f9a44c571a7b84",
     "locked": true,
     "schema_version": 3,
     "solution": false
    }
   },
   "source": [
    "## Exercício 03\n",
    "\n",
    "Agora vamos juntar tudo fazendo uso de Testes A/B. Para tal, vamos separar as escolas em dois grupos: privadas e não privadas. Crie dois dataframes com as escolas privadas e não privadas."
   ]
  },
  {
   "cell_type": "code",
   "execution_count": null,
   "metadata": {
    "deletable": false,
    "nbgrader": {
     "cell_type": "code",
     "checksum": "ef8fea3edb97453e4a2c251d96327c3e",
     "grade": true,
     "grade_id": "cell-f409b4059af75355",
     "locked": false,
     "points": 0,
     "schema_version": 3,
     "solution": true,
     "task": false
    }
   },
   "outputs": [],
   "source": [
    "# YOUR CODE HERE\n",
    "raise NotImplementedError()"
   ]
  },
  {
   "cell_type": "code",
   "execution_count": null,
   "metadata": {
    "deletable": false,
    "editable": false,
    "nbgrader": {
     "cell_type": "code",
     "checksum": "1d7578aa982f748e2d9d82f87d0149a2",
     "grade": true,
     "grade_id": "cell-bc30cd8db488b4f4",
     "locked": true,
     "points": 0,
     "schema_version": 3,
     "solution": false,
     "task": false
    }
   },
   "outputs": [],
   "source": []
  },
  {
   "cell_type": "markdown",
   "metadata": {
    "deletable": false,
    "editable": false,
    "nbgrader": {
     "cell_type": "markdown",
     "checksum": "cc3e7476c23acf060529d7aaef1312d0",
     "grade": false,
     "grade_id": "cell-7b6790a3083264a6",
     "locked": true,
     "schema_version": 3,
     "solution": false
    }
   },
   "source": [
    "A) Realize um Teste A/B para indicar qual tipo de escola tem a média maior. Você pode fazer tal teste via Bootstrap ou Valor Exato. Para realizar tal teste criamos um esqueleto de função abaixo, o mesmo vai receber dois dataframes:\n",
    "\n",
    "`df_hyp_menor` (o grupo que achamos ser menor em média) e `df_hyp_maior` (o grupo que achamos ser maior em média)\n",
    "\n",
    "Seu método deve retornar `True` caso tenha evidências estatísticas de que o `df_hyp_menor` seja realmente menor. Para tal, compare os intervalos de confiança.\n",
    "\n",
    "Para lhe ajudar, compare os ICs abaixo. Qual seria a resposta? `True` ou `False`?"
   ]
  },
  {
   "cell_type": "code",
   "execution_count": null,
   "metadata": {
    "deletable": false,
    "editable": false,
    "nbgrader": {
     "cell_type": "code",
     "checksum": "c17275116099dfbb97b29fbcf7dd6785",
     "grade": false,
     "grade_id": "cell-497ad45deb16a377",
     "locked": true,
     "schema_version": 3,
     "solution": false,
     "task": false
    }
   },
   "outputs": [],
   "source": [
    "calcula_IC_notas(df_privada)"
   ]
  },
  {
   "cell_type": "code",
   "execution_count": null,
   "metadata": {
    "deletable": false,
    "editable": false,
    "nbgrader": {
     "cell_type": "code",
     "checksum": "df5e559a97d76861b096b72c736e2c90",
     "grade": false,
     "grade_id": "cell-88c95d86734c636b",
     "locked": true,
     "schema_version": 3,
     "solution": false,
     "task": false
    }
   },
   "outputs": [],
   "source": [
    "calcula_IC_notas(df_nao_privada)"
   ]
  },
  {
   "cell_type": "code",
   "execution_count": null,
   "metadata": {
    "deletable": false,
    "nbgrader": {
     "cell_type": "code",
     "checksum": "4a26bc0a04980ffb78c2ca6408a2c419",
     "grade": false,
     "grade_id": "cell-41b761a7be36a648",
     "locked": false,
     "schema_version": 3,
     "solution": true
    }
   },
   "outputs": [],
   "source": [
    "def teste_ab(df_hyp_menor, df_hyp_maior):\n",
    "    # YOUR CODE HERE\n",
    "    raise NotImplementedError()"
   ]
  },
  {
   "cell_type": "code",
   "execution_count": null,
   "metadata": {
    "deletable": false,
    "editable": false,
    "nbgrader": {
     "cell_type": "code",
     "checksum": "77ea873818c80f4067ba82fb04200cfb",
     "grade": false,
     "grade_id": "cell-93614ae34d5f1095",
     "locked": true,
     "schema_version": 3,
     "solution": false,
     "task": false
    }
   },
   "outputs": [],
   "source": [
    "print(teste_ab(df_nao_privada, df_privada)) # True\n",
    "print(teste_ab(df_privada, df_nao_privada)) # False"
   ]
  },
  {
   "cell_type": "code",
   "execution_count": null,
   "metadata": {
    "deletable": false,
    "editable": false,
    "nbgrader": {
     "cell_type": "code",
     "checksum": "997ec1b530146e0d6a4e9a33bd7a628f",
     "grade": true,
     "grade_id": "cell-46a72ffc2a1297c8",
     "locked": true,
     "points": 1,
     "schema_version": 3,
     "solution": false
    }
   },
   "outputs": [],
   "source": []
  },
  {
   "cell_type": "markdown",
   "metadata": {
    "deletable": false,
    "editable": false,
    "nbgrader": {
     "cell_type": "markdown",
     "checksum": "53f2fdf06061dd07f3d5c0aac7e95089",
     "grade": false,
     "grade_id": "cell-b9a21e139a71ea34",
     "locked": true,
     "schema_version": 3,
     "solution": false
    }
   },
   "source": [
    "B) Repita o teste comparando as escolas Privadas com as Federais. Pense um pouco qual a conclusão."
   ]
  },
  {
   "cell_type": "code",
   "execution_count": null,
   "metadata": {
    "deletable": false,
    "nbgrader": {
     "cell_type": "code",
     "checksum": "c35f6a32b1ea24c8e70bd1f6e4d581d1",
     "grade": true,
     "grade_id": "cell-d7b88882d49b66d5",
     "locked": false,
     "points": 0,
     "schema_version": 3,
     "solution": true,
     "task": false
    }
   },
   "outputs": [],
   "source": [
    "# YOUR CODE HERE\n",
    "raise NotImplementedError()"
   ]
  },
  {
   "cell_type": "code",
   "execution_count": null,
   "metadata": {
    "deletable": false,
    "editable": false,
    "nbgrader": {
     "cell_type": "code",
     "checksum": "1a440b4c985e5ad7cbf3258ee9fa93a5",
     "grade": true,
     "grade_id": "cell-3416cb247d489dc6",
     "locked": true,
     "points": 0,
     "schema_version": 3,
     "solution": false,
     "task": false
    }
   },
   "outputs": [],
   "source": []
  },
  {
   "cell_type": "markdown",
   "metadata": {
    "deletable": false,
    "editable": false,
    "nbgrader": {
     "cell_type": "markdown",
     "checksum": "23bbfea1bd14d639ac8b8d1978360193",
     "grade": false,
     "grade_id": "cell-afd808013cbec467",
     "locked": true,
     "schema_version": 3,
     "solution": false,
     "task": false
    }
   },
   "source": [
    "C) Agora, faça um outro teste A/B com a **fração de escolas cuja taxa de aprendizado seja superior a 90%**. Note que isto não é uma média. Isto é: `1 - ecdf(90)`, onde `ecdf` é um objeto da class ECDF do statsmodels. Tal CDF foi computada na coluna `TAXA_DE_APROVACAO`.\n",
    "\n",
    "Para fazer esta tarefa você deve implementar duas funções. \n",
    "\n",
    "1. A primeira computa um IC (com significância de 5%, ou em outras palaras um IC de 95%) do valor acima. Tal IC deve ser feito via bootstrap.\n",
    "1. Uma outra função que compara os dois grupos"
   ]
  },
  {
   "cell_type": "code",
   "execution_count": null,
   "metadata": {
    "deletable": false,
    "nbgrader": {
     "cell_type": "code",
     "checksum": "1fcd310d46c4d1da718860527e3f636c",
     "grade": false,
     "grade_id": "cell-4cb46adf61d39965",
     "locked": false,
     "schema_version": 3,
     "solution": true
    }
   },
   "outputs": [],
   "source": [
    "def ic_bootstrap_ccdf(df, n, taxa=90):\n",
    "    # YOUR CODE HERE\n",
    "    raise NotImplementedError()\n",
    "\n",
    "def teste_ab_ccdf(df_hyp_menor, df_hyp_maior, n=5000, taxa=90):\n",
    "    # YOUR CODE HERE\n",
    "    raise NotImplementedError()"
   ]
  },
  {
   "cell_type": "code",
   "execution_count": null,
   "metadata": {
    "deletable": false,
    "editable": false,
    "nbgrader": {
     "cell_type": "code",
     "checksum": "6ce50db812ae8d3ab953d828d01f008d",
     "grade": false,
     "grade_id": "cell-b209e7400dead091",
     "locked": true,
     "schema_version": 3,
     "solution": false,
     "task": false
    }
   },
   "outputs": [],
   "source": [
    "teste_ab_ccdf(df_privada, df_fed)"
   ]
  },
  {
   "cell_type": "code",
   "execution_count": null,
   "metadata": {
    "deletable": false,
    "editable": false,
    "nbgrader": {
     "cell_type": "code",
     "checksum": "702ee179e6c971e83c401d2cf7994e61",
     "grade": true,
     "grade_id": "cell-332802801587122d",
     "locked": true,
     "points": 1,
     "schema_version": 3,
     "solution": false
    }
   },
   "outputs": [],
   "source": []
  },
  {
   "cell_type": "markdown",
   "metadata": {
    "deletable": false,
    "editable": false,
    "nbgrader": {
     "cell_type": "markdown",
     "checksum": "49a53a09763c525ada63770960e9ade2",
     "grade": false,
     "grade_id": "cell-acd755ed75862e37",
     "locked": true,
     "schema_version": 3,
     "solution": false,
     "task": false
    }
   },
   "source": [
    "**Interprete os resultados. Observe que em um caso o teste falha no outro não!**"
   ]
  },
  {
   "cell_type": "markdown",
   "metadata": {
    "deletable": false,
    "nbgrader": {
     "cell_type": "markdown",
     "checksum": "2f570750f9a1cfd2debb2a6f30966aad",
     "grade": true,
     "grade_id": "cell-035e97a09d03ead0",
     "locked": false,
     "points": 0,
     "schema_version": 3,
     "solution": true
    }
   },
   "source": [
    "YOUR ANSWER HERE"
   ]
  }
 ],
 "metadata": {
  "kernelspec": {
   "display_name": "Python 3",
   "language": "python",
   "name": "python3"
  },
  "language_info": {
   "codemirror_mode": {
    "name": "ipython",
    "version": 3
   },
   "file_extension": ".py",
   "mimetype": "text/x-python",
   "name": "python",
   "nbconvert_exporter": "python",
   "pygments_lexer": "ipython3",
   "version": "3.8.5"
  },
  "varInspector": {
   "cols": {
    "lenName": 16,
    "lenType": 16,
    "lenVar": 40
   },
   "kernels_config": {
    "python": {
     "delete_cmd_postfix": "",
     "delete_cmd_prefix": "del ",
     "library": "var_list.py",
     "varRefreshCmd": "print(var_dic_list())"
    },
    "r": {
     "delete_cmd_postfix": ") ",
     "delete_cmd_prefix": "rm(",
     "library": "var_list.r",
     "varRefreshCmd": "cat(var_dic_list()) "
    }
   },
   "types_to_exclude": [
    "module",
    "function",
    "builtin_function_or_method",
    "instance",
    "_Feature"
   ],
   "window_display": false
  }
 },
 "nbformat": 4,
 "nbformat_minor": 2
}
